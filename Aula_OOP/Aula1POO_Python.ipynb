{
 "cells": [
  {
   "cell_type": "markdown",
   "id": "d3ed94d9",
   "metadata": {},
   "source": [
    "<div class=\"cont_title\"> \n",
    "\n",
    "<h1> <center> Programação orientada a objetos: Python </center> </h1>\n",
    "\n",
    "<p class=\"professor_name\"> <strong> Candiato Professor de Data Science: </strong>PhD. Welsey Lima </p>\n",
    "\n",
    "<ul>\n",
    "    <li>Email: wesley.datascientist@gmail.com</li>\n",
    "    <li>Celular: (81) 99594-7698</li>\n",
    "    <li>Github: <a href=\"https://wesleyjw.github.io/\" target=\"_blanck\">Código da aula!</a></li>\n",
    "</ul>\n",
    "\n",
    "</div>\n",
    "\n",
    "<img src=\"images/letsCode.jpg\" class=\"logo\"/>    "
   ]
  },
  {
   "cell_type": "markdown",
   "id": "0b465293",
   "metadata": {},
   "source": [
    "## Tópicos da Aula\n",
    "\n",
    "- [Revisão e Conceitos](#Revisão-e-Conceitos)\n",
    "- [POO Definições](#POO-Definições)\n",
    "- [Laboratório I](#Laboratório-I)\n",
    "- [Componentes da POO](#Componentes-da-POO)\n",
    "- [Laboratório II](#Laboratório-II)\n",
    "- [Laboratório III](#Laboratório-III)\n",
    "- [Laboratório IV](#Laboratório-IV)\n"
   ]
  },
  {
   "cell_type": "markdown",
   "id": "11bd4854",
   "metadata": {},
   "source": [
    "## Revisão e Conceitos \n",
    "\n",
    "A <strong> programação estruturada </strong> segue uma lógica e sequência de pensamento de uma máquina, sendo assim, sua lógica é direcionada à linguagem de máquina. \n",
    "\n",
    "<div class=\"revisao-como-era\">\n",
    "\n",
    "<ul>\n",
    "    <br/>\n",
    "    <li> <h3> Linha do Tempo </h3></li>\n",
    "</ul> \n",
    "<img src=\"./images/programing_flow.jpg\" alt=\"programing_fluxo\" class=\"programing-fluxo\"/>\n",
    "\n",
    "</div>\n",
    "\n",
    "<div class=\"revisao-prog-estruturada\">\n",
    "\n",
    "<ul>\n",
    "   <br/>\n",
    "   <li> <h3> Programação Estruturada </h3></li>\n",
    "</ul> \n",
    "\n",
    "<img src=\"./images/programa.jpg\" alt=\"programa_estruturado\" class=\"programa-codigo\"/>\n",
    "<br/>\n",
    "<br/>\n",
    "<br/>\n",
    "<br/>\n",
    "<br/>\n",
    "<br/>\n",
    "</div>"
   ]
  },
  {
   "cell_type": "markdown",
   "id": "f8743daa",
   "metadata": {},
   "source": [
    "<h3> Exemplo de Classe </h3>\n",
    "    \n",
    "<img src=\"./images/classe_caneta.png\" alt=\"Exemplo de uma classe\" class=\"classe-caneta\"/> "
   ]
  },
  {
   "cell_type": "markdown",
   "id": "15f72206",
   "metadata": {},
   "source": [
    "<div class=\"revisao-conceitos\">\n",
    "<ul>\n",
    "    <br>\n",
    "\n",
    "<li> <h3>Programação Orientada a Objetos - POO </h3></li>\n",
    "\n",
    "<p> É um modelo de análise, projeto e programação baseado na aproximação entre o mundo real e o mundo virtual, através da criação e interação entre objetos, atributos, códigos, métodos, entre outros.\n",
    "Os seus códigos são organizados de acordo com objetos, e não processos, como no caso da programação estruturada.\n",
    "</p>\n",
    "    \n",
    " <li> <h3>Objetivo da POO</h3> </li>\n",
    "\n",
    "</ul>\n",
    "    <p>Aproximar o mundo lógico da programação e o mundo real em que vivemos. </p>\n",
    "\n",
    "</div>\n",
    "\n",
    "<div class=\"oop-linguagens\">\n",
    "  <li> <h3> Linguagens: </h3> </li>\n",
    "  <br/>\n",
    "<ul>\n",
    "    <li>Python</li>\n",
    "    <li>Java Script</li>\n",
    "    <li>C#</li>\n",
    "    <li>PHP</li>\n",
    "    <li>Java</li>\n",
    "    <li>N outras</li>\n",
    "</ul>\n",
    "</div>"
   ]
  },
  {
   "cell_type": "markdown",
   "id": "c951f564",
   "metadata": {},
   "source": [
    "## POO Definições\n",
    "\n",
    "\n",
    "<div class=\"poo-definicoes\">\n",
    "<br>\n",
    "<ul>\n",
    "    <li> <h3> O que é uma classe? </h3> </li>\n",
    "    \n",
    "  <p> São os agrupamentos que descrevem todos os objetos de um único tipo. Ela ainda pode ser definida como uma\n",
    "descrição das propriedades de um objeto, bem como seus comportamentos e ações. </p>\n",
    "\n",
    "<img src=\"./images/img_classe.png\" alt=\"objetos de classe\" />    \n",
    "    \n",
    "    \n",
    "    \n",
    "    \n",
    "</ul>\n",
    "</div>\n",
    "\n",
    "<div class=\"poo-programas\">\n",
    "  \n",
    "\n",
    "<div class=\"coding\">\n",
    "\n",
    "```Python\n",
    "# Como criar uma classe em Python?\n",
    "\n",
    "class Funcionario:\n",
    "    def __init__(self, nome, id_incricao, salario, turno):\n",
    "        self.nome = nome\n",
    "        self.id_inscricao = id_inscricao\n",
    "        self.salario = salario\n",
    "        self.turno = turno\n",
    "    \n",
    "    def hora_de_trabalho(self):\n",
    "        print(f\"Qual o horário de trabalho do funcionário {self.nome}: {self.turno}\")\n",
    "     \n",
    "    def funcao_desepenho(self):\n",
    "        print(\"Funcionário desepenha as seguintes funções: \")\n",
    "    \n",
    "\n",
    "```\n",
    "    \n",
    "</div>    \n",
    "    \n",
    "</div>"
   ]
  },
  {
   "cell_type": "markdown",
   "id": "32e59433",
   "metadata": {},
   "source": [
    "<div class=\"poo-definicoes\">\n",
    "<br>\n",
    "<ul>\n",
    "    <li> <h3> O que é um construtor? </h3> </li>\n",
    "    \n",
    "  <p> O construtor é responsável em atribuir as características a um objeto de uma classe. </p>\n",
    "\n",
    "<img src=\"./images/img_construtor.png\" alt=\"construtor\" />    \n",
    "    \n",
    "    \n",
    "    \n",
    "    \n",
    "</ul>\n",
    "</div>\n",
    "\n",
    "<div class=\"poo-programas\">\n",
    "  \n",
    "\n",
    "<div class=\"coding\">\n",
    "\n",
    "```Python\n",
    "# O que é um construtor?\n",
    "\n",
    "def __init__(self, nome, id_incricao, salario, turno):\n",
    "    self.nome = nome\n",
    "    self.id_inscricao = id_inscricao\n",
    "    self.salario = salario\n",
    "    self.turno = turno\n",
    "\n",
    "# O que significa o termo \"self\"?\n",
    "# self é utilizado para se referir ao objeto \n",
    "    \n",
    "\n",
    "```\n",
    "    \n",
    "</div>    \n",
    "    \n",
    "</div>"
   ]
  },
  {
   "cell_type": "markdown",
   "id": "e9787678",
   "metadata": {},
   "source": [
    "<div class=\"poo-definicoes\">\n",
    "<br>\n",
    "<ul>\n",
    "    <li> <h3> O que são atributos? </h3> </li>\n",
    "    \n",
    "  <p> São caraterísticas do objeto. Considerando o objeto da nossa classe *Funiconário*, os atributos são: nome, id, salário e turno de trabalho.</p>\n",
    "\n",
    "<img src=\"./images/img_objetos.png\" alt=\"objetos de classe\" />    \n",
    "    \n",
    "    \n",
    "    \n",
    "    \n",
    "</ul>\n",
    "</div>\n",
    "\n",
    "<div class=\"poo-programas\">\n",
    "  \n",
    "\n",
    "<div class=\"coding\">\n",
    "\n",
    "```Python\n",
    "# Para o funionário 1, os atributos são:\n",
    "\n",
    "   \n",
    "# Define os atributos do objeto\n",
    "nome = \"José\"\n",
    "id_inscricao = 1\n",
    "salario = 10000\n",
    "turno = \"vespertino\"\n",
    "```\n",
    "    \n",
    "</div>    \n",
    "    \n",
    "</div>"
   ]
  },
  {
   "cell_type": "markdown",
   "id": "a597dda0",
   "metadata": {},
   "source": [
    "<div class=\"poo-definicoes\">\n",
    "<br>\n",
    "<ul>\n",
    "    <li> <h3> O que são métodos? </h3> </li>\n",
    "    \n",
    "  <p> São os comportamentos do objeto. Os métodos determinam os comportamentos ou ações que uma classe pode possuir. São análogas a funções da\n",
    "programação estruturada.</p>\n",
    "\n",
    "<img src=\"./images/img_metodos.png\" alt=\"objetos de classe\" />    \n",
    "    \n",
    "    \n",
    "    \n",
    "    \n",
    "</ul>\n",
    "</div>\n",
    "\n",
    "<div class=\"poo-programas\">\n",
    "  \n",
    "\n",
    "<div class=\"coding\">\n",
    "\n",
    "```Python\n",
    "# Os métodos fazem referência ao objeto.\n",
    "\n",
    "   \n",
    "def hora_de_trabalho(self):\n",
    "    print(f\"Qual o horário de trabalho do funcionário {self.nome}: {self.turno}\")\n",
    "     \n",
    "def funcao_desepenho(self):\n",
    "    print(\"Funcionário desepenha as seguintes funções: \")\n",
    "```\n",
    "    \n",
    "</div>    \n",
    "    \n",
    "</div>"
   ]
  },
  {
   "cell_type": "markdown",
   "id": "a6670fcf",
   "metadata": {},
   "source": [
    "\n",
    "<div class=\"poo-definicoes\">\n",
    "<br>\n",
    "<ul>\n",
    "    <li> <h3> O que é um Objeto? </h3> </li>\n",
    "    \n",
    "  <p> São elementos do mundo real para o mundo da programação. O objeto é criado a partir de uma classe. Na programação, nada mais é que uma variável criada a partir de um \"molde\" que seria a classe. Cada objeto possui características distintas. </p>\n",
    "\n",
    "<img src=\"./images/img_objetos.png\" alt=\"objetos de classe\" />    \n",
    "    \n",
    "    \n",
    "    \n",
    "    \n",
    "</ul>\n",
    "</div>\n",
    "\n",
    "<div class=\"poo-programas\">\n",
    "  \n",
    "\n",
    "<div class=\"coding\">\n",
    "\n",
    "```Python\n",
    "# Objeto da classe funcionário.\n",
    "    \n",
    "funcionario1 = Funcionario(\"José\", 1, 10000, \"vespertino\")\n",
    "funcionario2 = Funcionario(\"Wesley\", 2, 2000, \"diurno\")\n",
    "funcionario3 = Funcionario(\"carlos\", 3, 1000, \"tarde\")\n",
    "funcionario4 = Funcionario(\"joao\", 4, 5000, \"manha\")\n",
    "```\n",
    "    \n",
    "</div>    \n",
    "    \n",
    "</div>"
   ]
  },
  {
   "cell_type": "markdown",
   "id": "fe08ccff",
   "metadata": {},
   "source": [
    "## Laboratório I"
   ]
  },
  {
   "cell_type": "code",
   "execution_count": 68,
   "id": "7363fa67",
   "metadata": {},
   "outputs": [],
   "source": [
    "class Funcionario:\n",
    "    def __init__(self, nome, id_inscricao, salario, turno):\n",
    "        self.nome = nome\n",
    "        self.id_inscricao = id_inscricao\n",
    "        self.salario = salario\n",
    "        self.turno = turno\n",
    "    \n",
    "    def hora_de_trabalho(self):\n",
    "        print(f\"Qual o horário de trabalho do funcionário {self.nome}: {self.turno}\")\n",
    "     \n",
    "    def funcao_desepenho(self):\n",
    "        print(\"Funcionário desepenha as seguintes funções: \")"
   ]
  },
  {
   "cell_type": "code",
   "execution_count": 69,
   "id": "4466df30",
   "metadata": {},
   "outputs": [
    {
     "ename": "TypeError",
     "evalue": "__init__() missing 4 required positional arguments: 'nome', 'id_inscricao', 'salario', and 'turno'",
     "output_type": "error",
     "traceback": [
      "\u001b[0;31m---------------------------------------------------------------------------\u001b[0m",
      "\u001b[0;31mTypeError\u001b[0m                                 Traceback (most recent call last)",
      "\u001b[0;32m/tmp/ipykernel_28/2225949487.py\u001b[0m in \u001b[0;36m<module>\u001b[0;34m\u001b[0m\n\u001b[0;32m----> 1\u001b[0;31m \u001b[0mfuncionario5\u001b[0m \u001b[0;34m=\u001b[0m \u001b[0mFuncionario\u001b[0m\u001b[0;34m(\u001b[0m\u001b[0;34m)\u001b[0m\u001b[0;34m\u001b[0m\u001b[0;34m\u001b[0m\u001b[0m\n\u001b[0m\u001b[1;32m      2\u001b[0m \u001b[0mprint\u001b[0m\u001b[0;34m(\u001b[0m\u001b[0mfuncionario5\u001b[0m\u001b[0;34m.\u001b[0m\u001b[0mnome\u001b[0m\u001b[0;34m)\u001b[0m\u001b[0;34m\u001b[0m\u001b[0;34m\u001b[0m\u001b[0m\n\u001b[1;32m      3\u001b[0m \u001b[0mfuncionario5\u001b[0m\u001b[0;34m.\u001b[0m\u001b[0mnome\u001b[0m \u001b[0;34m=\u001b[0m  \u001b[0;34m\"sebastiao\"\u001b[0m\u001b[0;34m\u001b[0m\u001b[0;34m\u001b[0m\u001b[0m\n\u001b[1;32m      4\u001b[0m \u001b[0mprint\u001b[0m\u001b[0;34m(\u001b[0m\u001b[0mfuncionario5\u001b[0m\u001b[0;34m.\u001b[0m\u001b[0mnome\u001b[0m\u001b[0;34m)\u001b[0m\u001b[0;34m\u001b[0m\u001b[0;34m\u001b[0m\u001b[0m\n",
      "\u001b[0;31mTypeError\u001b[0m: __init__() missing 4 required positional arguments: 'nome', 'id_inscricao', 'salario', and 'turno'"
     ]
    }
   ],
   "source": [
    "funcionario5 = Funcionario()\n",
    "print(funcionario5.nome)\n",
    "funcionario5.nome =  \"sebastiao\"\n",
    "print(funcionario5.nome)"
   ]
  },
  {
   "cell_type": "code",
   "execution_count": 70,
   "id": "f213d769",
   "metadata": {},
   "outputs": [
    {
     "name": "stdout",
     "output_type": "stream",
     "text": [
      "Qual o horário de trabalho do funcionário José: vespertino\n",
      "Qual o horário de trabalho do funcionário joao: manha\n"
     ]
    }
   ],
   "source": [
    "funcionario1 = Funcionario(\"José\", 1, 10000, \"vespertino\")\n",
    "funcionario1.hora_de_trabalho()\n",
    "\n",
    "funcionario4 = Funcionario(\"joao\", 4, 5000, \"manha\")\n",
    "funcionario4.hora_de_trabalho()"
   ]
  },
  {
   "cell_type": "markdown",
   "id": "265ae037",
   "metadata": {},
   "source": [
    "## Componentes da POO\n",
    "\n",
    "<div class=\"poo-definicoes\">\n",
    "<br>\n",
    "<ul>\n",
    "    <li> <h3> Abstração </h3> </li>\n",
    "    \n",
    "  <p> É o processo de aproximar o mundo real do mundo digital da programação, sendo assim, seu principal objetivo é representar a complexidade do mundo real de forma simplificada. </p>\n",
    "\n",
    "<img src=\"./images/img_objetos.png\" alt=\"objetos de classe\" />    \n",
    "    \n",
    "    \n",
    "    \n",
    "    \n",
    "</ul>\n",
    "</div>\n",
    "\n",
    "<div class=\"poo-programas\">\n",
    "  \n",
    "\n",
    "<div class=\"coding\">\n",
    "\n",
    "```Python\n",
    "# Na abstração tentamos criar apenas os atributos que importam na classe\n",
    "\n",
    "def __init__(self, nome, id_incricao, salario, turno, cpf, peso, altura):\n",
    "    self.nome = nome\n",
    "    self.id_inscricao = id_inscricao\n",
    "    self.salario = salario\n",
    "    self.turno = turno\n",
    "    self.cpf = cpf\n",
    "    self.peso = peso\n",
    "    self.altura = altura\n",
    "\n",
    "#OBS: os atributos peso, altura poderiam ser excluídos do construtor\n",
    "```\n",
    "    \n",
    "</div>    \n",
    "    \n",
    "</div>\n"
   ]
  },
  {
   "cell_type": "markdown",
   "id": "abeb3e30",
   "metadata": {},
   "source": [
    "<div class=\"poo-definicoes\">\n",
    "<br>\n",
    "<ul>\n",
    "    <li> <h3> Encapsulamento </h3> </li>\n",
    "    \n",
    "   <p> É a ação de <strong> ocultar partes</strong> independentes da implementação, desta forma podemos construir partes que são invisíveis ao mundo real. Sendo assim, procuramos esconder de clientes (usuários de uma classe) algumas das informações que não são necessárias ao uso da classe. Geralmente o que pocuramos esconder são atributos que se alterados podem comprometer o comportamento de um método ou do sistema como um todo.</p>\n",
    "\n",
    "<img src=\"./images/img_objetos.png\" alt=\"objetos de classe\" />    \n",
    "    \n",
    "    \n",
    "    \n",
    "    \n",
    "</ul>\n",
    "</div>\n",
    "\n",
    "<div class=\"poo-programas\">\n",
    "  \n",
    "\n",
    "<div class=\"coding\">\n",
    "\n",
    "```Python\n",
    "# Como criar uma classe em Python?\n",
    "\n",
    "class Funcionario:\n",
    "    def __init__(self, nome, id_incricao, valor_hora_trabalhada, turno):\n",
    "        self.nome = nome\n",
    "        self.id_inscricao = id_inscricao\n",
    "        self.turno = turno\n",
    "        self.valor_hora_trabalhada = valor_hora_trabalhada\n",
    "        self._horas_trabalhadas = 0\n",
    "        self.__salario = 0\n",
    "\n",
    "    def registra_hora_trabalhada(self):\n",
    "        self._horas_trabalhadas += 1\n",
    "\n",
    "    def calcula_salario(self):\n",
    "        self.__salario = self._horas_trabalhadas * self.valor_hora_trabalhada\n",
    "        print(f\"O sálario de {self.nome} é: {self.__salario}\")\n",
    "\n",
    "#OBS: _ Por favor não altere esse atributo fora da classe\n",
    "#OBS: __ Recomendo fortemente que você não altere esse atributo fora da classe\n",
    "```\n",
    "    \n",
    "</div>    \n",
    "    \n",
    "</div>\n"
   ]
  },
  {
   "cell_type": "markdown",
   "id": "083461f8",
   "metadata": {},
   "source": [
    "## Laboratório II"
   ]
  },
  {
   "cell_type": "code",
   "execution_count": 72,
   "id": "d494bf60",
   "metadata": {},
   "outputs": [],
   "source": [
    "# Criando a classe funcionário com variáveis emcapsuladas\n",
    "class Funcionario:\n",
    "    def __init__(self, nome, id_inscricao, valor_hora_trabalhada, turno):\n",
    "        self.nome = nome\n",
    "        self.id_inscricao = id_inscricao\n",
    "        self.turno = turno\n",
    "        self.valor_hora_trabalhada = valor_hora_trabalhada\n",
    "        self._horas_trabalhadas = 0\n",
    "        self.__salario = 0\n",
    "\n",
    "    def registra_hora_trabalhada(self):\n",
    "        self._horas_trabalhadas += 1\n",
    "\n",
    "    def calcula_salario(self):\n",
    "        self.__salario = self._horas_trabalhadas * self.valor_hora_trabalhada\n",
    "        print(f\"O sálario de {self.nome} é: {self.__salario}\")"
   ]
  },
  {
   "cell_type": "code",
   "execution_count": 73,
   "id": "8ac2a89e",
   "metadata": {},
   "outputs": [
    {
     "name": "stdout",
     "output_type": "stream",
     "text": [
      "O sálario de Jose é: 150\n"
     ]
    }
   ],
   "source": [
    "# criando o objeto funcionário\n",
    "funcionario1 = Funcionario(\"Jose\", 1, 150, \"manha\")\n",
    "\n",
    "# Registrando uma hora de trabalho e calculando o valor do salário\n",
    "funcionario1.registra_hora_trabalhada()\n",
    "funcionario1.calcula_salario()"
   ]
  },
  {
   "cell_type": "code",
   "execution_count": 74,
   "id": "1252cea8",
   "metadata": {},
   "outputs": [
    {
     "name": "stdout",
     "output_type": "stream",
     "text": [
      "15\n"
     ]
    }
   ],
   "source": [
    "# Tentar modificar a _horas_trabalhadas\n",
    "funcionario1._horas_trabalhadas = 15\n",
    "\n",
    "print(funcionario1._horas_trabalhadas)"
   ]
  },
  {
   "cell_type": "code",
   "execution_count": 75,
   "id": "54c19b2c",
   "metadata": {},
   "outputs": [
    {
     "name": "stdout",
     "output_type": "stream",
     "text": [
      "O sálario de Jose é: 2250\n"
     ]
    }
   ],
   "source": [
    "# Calcula o valor do salario\n",
    "funcionario1.calcula_salario()"
   ]
  },
  {
   "cell_type": "code",
   "execution_count": 76,
   "id": "eb8b4fc6",
   "metadata": {},
   "outputs": [
    {
     "name": "stdout",
     "output_type": "stream",
     "text": [
      "O sálario de Jose é: 2250\n"
     ]
    }
   ],
   "source": [
    "#Tentar mudar o salário de funcionario1\n",
    "funcionario1.__salario = 10000\n",
    "funcionario1.calcula_salario()\n",
    "\n",
    "# Ainda é possível mudar o salário\n",
    "# OBS: para que isso não ocorra podemos utilizar um decorator @propety"
   ]
  },
  {
   "cell_type": "code",
   "execution_count": 77,
   "id": "93c5c655",
   "metadata": {},
   "outputs": [
    {
     "name": "stdout",
     "output_type": "stream",
     "text": [
      "10000\n"
     ]
    }
   ],
   "source": [
    "# Verifica qual o valor armazenado no atributo __salario\n",
    "print(funcionario1.__salario)"
   ]
  },
  {
   "cell_type": "code",
   "execution_count": 78,
   "id": "d614c2d8",
   "metadata": {},
   "outputs": [
    {
     "name": "stdout",
     "output_type": "stream",
     "text": [
      "2250\n"
     ]
    }
   ],
   "source": [
    "# O python salva o atributo salario com outro nome\n",
    "print(funcionario1._Funcionario__salario)"
   ]
  },
  {
   "cell_type": "markdown",
   "id": "55ed85b1",
   "metadata": {},
   "source": [
    "<div class=\"poo-definicoes\">\n",
    "<br>\n",
    "<ul>\n",
    "    <li> <h3> Herança </h3> </li>\n",
    "    \n",
    "   <p> Em POO diz respeito à <strong> ação de herdar</strong>. É uma forma de reutilizar o código já existente em uma nova classe. Dessa forma, um objeto pode ser criado em uma outra classe, <strong> carregando consigo todos os atributos já existentes </strong>  da sua classe de origem (mãe).</p>\n",
    "\n",
    "<img src=\"./images/UML_aula_poo_descricao.png\" alt=\"objetos de classe\" />    \n",
    "    \n",
    "    \n",
    "    \n",
    "    \n",
    "</ul>\n",
    "</div>\n",
    "\n",
    "<div class=\"poo-programas\">\n",
    "  \n",
    "\n",
    "<div class=\"coding\">\n",
    "\n",
    "```Python\n",
    "# Super Classe (Mãe)   \n",
    "class Funcionario:\n",
    "    # Construtor (Características)\n",
    "    \n",
    "    # Métodos (Comportamentos)\n",
    "    \n",
    "    pass\n",
    "\n",
    "# Subclasse (Filha)\n",
    "class Diretor(Funcionario):\n",
    "    # Característica própria\n",
    "    \n",
    "    # Métodos\n",
    "    \n",
    "    pass\n",
    "\n",
    "# Subclasse (Filha)\n",
    "class Coordenador(Funcionario):\n",
    "    #Métodos\n",
    "    \n",
    "    pass\n",
    "\n",
    "# Subclasse (Filha)\n",
    "class Professor(Funcionario):\n",
    "    #Métodos\n",
    "    \n",
    "    pass\n",
    "\n",
    "```\n",
    "    \n",
    "</div>    \n",
    "    \n",
    "</div>\n"
   ]
  },
  {
   "cell_type": "markdown",
   "id": "8576c2b7",
   "metadata": {},
   "source": [
    "<img src=\"./images/heranca_gen_esp.png\" alt=\"Herança generalização e especialização\" />"
   ]
  },
  {
   "cell_type": "markdown",
   "id": "2e52527d",
   "metadata": {},
   "source": [
    "## Laboratório III"
   ]
  },
  {
   "cell_type": "code",
   "execution_count": 80,
   "id": "b4d0446c",
   "metadata": {},
   "outputs": [],
   "source": [
    "class Funcionario:\n",
    "    def __init__(self, nome, id_inscricao, valor_hora_trabalhada, turno):\n",
    "        self.nome = nome\n",
    "        self.id_inscricao = id_inscricao\n",
    "        self.turno = turno\n",
    "        self.valor_hora_trabalhada = valor_hora_trabalhada\n",
    "        self._horas_trabalhadas = 0\n",
    "        self.__salario = 0\n",
    "\n",
    "    def registra_hora_trabalhada(self):\n",
    "        self._horas_trabalhadas += 1\n",
    "\n",
    "    def calcula_salario(self):\n",
    "        self.__salario = self._horas_trabalhadas * self.valor_hora_trabalhada\n",
    "        print(f\"O sálario de {self.nome} é: {self.__salario}\")\n",
    "    \n",
    "    def horario_de_trabalho(self):\n",
    "        horario = {\"matutino\": \"08 hrs às 12 hrs\",\n",
    "                   \"vespertino\": \"14 hrs às 18 hrs\", \n",
    "                   \"noturno\": \"18 hrs às 22 hrs\"}\n",
    "        print(f\"O horário de trabalho é: {horario.get(self.turno, 'Não definido')}\")\n",
    "    \n",
    "    def informacoes_funcionario(self):\n",
    "        print(f\"Nome: {self.nome}\")\n",
    "        print(f\"Id Inscrição: {self.id_inscricao}\")\n",
    "        print(f\"Valor da hora de trabalho: {self.valor_hora_trabalhada}\")\n",
    "        self.horario_de_trabalho()\n",
    "\n",
    "    def funcoes_que_desempenha(self):\n",
    "        print(\"O funcionário desepenhas as seguintes funções: \")"
   ]
  },
  {
   "cell_type": "code",
   "execution_count": 81,
   "id": "945e0d62",
   "metadata": {},
   "outputs": [
    {
     "name": "stdout",
     "output_type": "stream",
     "text": [
      "Nome: José\n",
      "Id Inscrição: 1\n",
      "Valor da hora de trabalho: 100\n",
      "O horário de trabalho é: 08 hrs às 12 hrs\n"
     ]
    }
   ],
   "source": [
    "# Criar o objeto funcionário 1\n",
    "funcionario1 = Funcionario(\"José\", 1, 100, \"matutino\")\n",
    "\n",
    "# Imprimir as informações do funcionário 1\n",
    "funcionario1.informacoes_funcionario()"
   ]
  },
  {
   "cell_type": "code",
   "execution_count": 67,
   "id": "1d4ed40e",
   "metadata": {},
   "outputs": [],
   "source": [
    "# Vamos criar a classe Coordenador ? \n",
    "\n",
    "class Coordenador(Funcionario):\n",
    "    \n",
    "    def funcoes_que_desempenha(self):\n",
    "        super().funcoes_que_desempenha()\n",
    "        print(\"1. Auxiliar professores!\")\n",
    "        print(\"2. Organizar festivais!\")\n",
    "        \n",
    "    def auxiliar_professores(self):\n",
    "        print(\"Auxiliando professores...\")\n",
    "    \n",
    "    def organizar_eventos(self):\n",
    "        print(\"Organizando eventos...\")"
   ]
  },
  {
   "cell_type": "code",
   "execution_count": 82,
   "id": "091d97a3",
   "metadata": {},
   "outputs": [
    {
     "ename": "TypeError",
     "evalue": "__init__() missing 4 required positional arguments: 'nome', 'id_inscricao', 'valor_hora_trabalhada', and 'turno'",
     "output_type": "error",
     "traceback": [
      "\u001b[0;31m---------------------------------------------------------------------------\u001b[0m",
      "\u001b[0;31mTypeError\u001b[0m                                 Traceback (most recent call last)",
      "\u001b[0;32m/tmp/ipykernel_28/3065086637.py\u001b[0m in \u001b[0;36m<module>\u001b[0;34m\u001b[0m\n\u001b[1;32m      1\u001b[0m \u001b[0;31m# Tentando criar um funcionário coordenador\u001b[0m\u001b[0;34m\u001b[0m\u001b[0;34m\u001b[0m\u001b[0m\n\u001b[0;32m----> 2\u001b[0;31m \u001b[0mcoordenador1\u001b[0m \u001b[0;34m=\u001b[0m \u001b[0mCoordenador\u001b[0m\u001b[0;34m(\u001b[0m\u001b[0;34m)\u001b[0m\u001b[0;34m\u001b[0m\u001b[0;34m\u001b[0m\u001b[0m\n\u001b[0m",
      "\u001b[0;31mTypeError\u001b[0m: __init__() missing 4 required positional arguments: 'nome', 'id_inscricao', 'valor_hora_trabalhada', and 'turno'"
     ]
    }
   ],
   "source": [
    "# Tentando criar um funcionário coordenador\n",
    "coordenador1 = Coordenador()"
   ]
  },
  {
   "cell_type": "code",
   "execution_count": 61,
   "id": "5ffd8e6c",
   "metadata": {},
   "outputs": [],
   "source": [
    "# Tentando criar um funcionário coordenador\n",
    "coordenador1 = Coordenador(\"Flávio\", 2, 200, \"noturno\")"
   ]
  },
  {
   "cell_type": "code",
   "execution_count": 83,
   "id": "ca316e3c",
   "metadata": {},
   "outputs": [
    {
     "name": "stdout",
     "output_type": "stream",
     "text": [
      "Nome: Flávio\n",
      "Id Inscrição: 2\n",
      "Valor da hora de trabalho: 200\n",
      "O horário de trabalho é: 18 hrs às 22 hrs\n"
     ]
    }
   ],
   "source": [
    "# Quais as informações do funcionário? \n",
    "coordenador1.informacoes_funcionario()"
   ]
  },
  {
   "cell_type": "code",
   "execution_count": 84,
   "id": "e79317e1",
   "metadata": {},
   "outputs": [
    {
     "name": "stdout",
     "output_type": "stream",
     "text": [
      "O sálario de Flávio é: 8000\n"
     ]
    }
   ],
   "source": [
    "# Adicionar 20 horas de trabalho e calcular o salário do coordenador\n",
    "for _ in range(20):\n",
    "    coordenador1.registra_hora_trabalhada()\n",
    "coordenador1.calcula_salario()"
   ]
  },
  {
   "cell_type": "code",
   "execution_count": 85,
   "id": "c7a04b2c",
   "metadata": {},
   "outputs": [
    {
     "name": "stdout",
     "output_type": "stream",
     "text": [
      "Auxiliando professores...\n"
     ]
    }
   ],
   "source": [
    "# Acessar o método auxiliar_professores\n",
    "coordenador1.auxiliar_professores()"
   ]
  },
  {
   "cell_type": "code",
   "execution_count": 86,
   "id": "9d19ea1a",
   "metadata": {},
   "outputs": [
    {
     "ename": "AttributeError",
     "evalue": "'Funcionario' object has no attribute 'auxiliar_professores'",
     "output_type": "error",
     "traceback": [
      "\u001b[0;31m---------------------------------------------------------------------------\u001b[0m",
      "\u001b[0;31mAttributeError\u001b[0m                            Traceback (most recent call last)",
      "\u001b[0;32m/tmp/ipykernel_28/887868363.py\u001b[0m in \u001b[0;36m<module>\u001b[0;34m\u001b[0m\n\u001b[1;32m      1\u001b[0m \u001b[0;31m# Acessar o método auxiliar_professores por meio do objeto funcionário\u001b[0m\u001b[0;34m\u001b[0m\u001b[0;34m\u001b[0m\u001b[0m\n\u001b[0;32m----> 2\u001b[0;31m \u001b[0mfuncionario1\u001b[0m\u001b[0;34m.\u001b[0m\u001b[0mauxiliar_professores\u001b[0m\u001b[0;34m(\u001b[0m\u001b[0;34m)\u001b[0m\u001b[0;34m\u001b[0m\u001b[0;34m\u001b[0m\u001b[0m\n\u001b[0m",
      "\u001b[0;31mAttributeError\u001b[0m: 'Funcionario' object has no attribute 'auxiliar_professores'"
     ]
    }
   ],
   "source": [
    "# Acessar o método auxiliar_professores por meio do objeto funcionário\n",
    "funcionario1.auxiliar_professores()"
   ]
  },
  {
   "cell_type": "markdown",
   "id": "1e76dc80",
   "metadata": {},
   "source": [
    "<div class=\"poo-definicoes\">\n",
    "<br>\n",
    "<ul>\n",
    "    <li> <h3> Polimorfismo </h3> </li>\n",
    "    \n",
    "   <p> É utilizado para que <strong> duas ou mais subclasses invoquem um método da superclasse</strong> com implementações específicas para o melhor funcionamento em cada classe. </p>\n",
    "    \n",
    "<br>\n",
    "<br>\n",
    "<br>\n",
    "    \n",
    "\n",
    "<img src=\"./images/polimorfismo.png\" alt=\"objetos de classe\" />    \n",
    "    \n",
    "    \n",
    "    \n",
    "    \n",
    "</ul>\n",
    "</div>\n",
    "\n",
    "<div class=\"poo-programas\">\n",
    "  \n",
    "\n",
    "<div class=\"coding\">\n",
    "\n",
    "```Python\n",
    "# Exemplo de polimorfismo   \n",
    "\n",
    "# Sujperclasse\n",
    "class Funcionario:\n",
    "    # Atributos \n",
    "\n",
    "    # Métodos \n",
    "    \n",
    "    def funcoes_que_desempenha(self):\n",
    "        print(\"O funcionário desepenhas as seguintes funções: \")\n",
    "    \n",
    "# Subclasse\n",
    "class Coordenador(Funcionario):\n",
    "    \n",
    "    def funcoes_que_desempenha(self):\n",
    "        super().funcoes_que_desempenha()\n",
    "        print(\"1. Auxiliar professores!\")\n",
    "        print(\"2. Organizar festivais!\")\n",
    "        \n",
    "    # Métodos\n",
    "```\n",
    "    \n",
    "</div>    \n",
    "    \n",
    "</div>\n"
   ]
  },
  {
   "cell_type": "markdown",
   "id": "afcfe7af",
   "metadata": {},
   "source": [
    "## Laboratório IV"
   ]
  },
  {
   "cell_type": "code",
   "execution_count": 87,
   "id": "4e44bf5e",
   "metadata": {},
   "outputs": [
    {
     "name": "stdout",
     "output_type": "stream",
     "text": [
      "O funcionário desepenhas as seguintes funções: \n",
      "1. Auxiliar professores!\n",
      "2. Organizar festivais!\n"
     ]
    }
   ],
   "source": [
    "# Verificando as funções que um coordenador desempenha\n",
    "coordenador1.funcoes_que_desempenha()"
   ]
  },
  {
   "cell_type": "code",
   "execution_count": 88,
   "id": "057e4dfc",
   "metadata": {},
   "outputs": [
    {
     "name": "stdout",
     "output_type": "stream",
     "text": [
      "O funcionário desepenhas as seguintes funções: \n"
     ]
    }
   ],
   "source": [
    "# O funcionário 1 criado anteriormente continua com a mesma função\n",
    "funcionario1.funcoes_que_desempenha()"
   ]
  },
  {
   "cell_type": "markdown",
   "id": "60430d0e",
   "metadata": {},
   "source": [
    "## Lista de Exercícios\n",
    "\n",
    "1. Finalize o sistema de gerênciamento de funcionários criando a subclasse diretor.\n",
    "2. Melhore o código modificando os métodos que podem deixar de funcionar caso o usuário informe um valor mal formatado."
   ]
  },
  {
   "cell_type": "markdown",
   "id": "12a6d170",
   "metadata": {},
   "source": [
    "## Referências\n",
    "\n",
    "BARRY, Paul. Use a cabeça! Python. Alta Books, 2019.\n",
    "\n",
    "MENEZES, Nilo Ney Coutinho. Introdução à programação com Python–3ª edição: Algoritmos e lógica de programação para iniciantes. Novatec Editora, 2019.\n",
    "\n"
   ]
  },
  {
   "cell_type": "code",
   "execution_count": 89,
   "id": "c9a72c49",
   "metadata": {},
   "outputs": [
    {
     "data": {
      "text/html": [
       "<!--Css config to presentation-->\n",
       "<link rel=\"stylesheet\" type=\"text/css\" href=\"./custom.css\" />\n"
      ],
      "text/plain": [
       "<IPython.core.display.HTML object>"
      ]
     },
     "metadata": {},
     "output_type": "display_data"
    }
   ],
   "source": [
    "%%HTML\n",
    "<!--Css config to presentation-->\n",
    "<link rel=\"stylesheet\" type=\"text/css\" href=\"./custom.css\" />"
   ]
  }
 ],
 "metadata": {
  "kernelspec": {
   "display_name": "Python 3 (ipykernel)",
   "language": "python",
   "name": "python3"
  },
  "language_info": {
   "codemirror_mode": {
    "name": "ipython",
    "version": 3
   },
   "file_extension": ".py",
   "mimetype": "text/x-python",
   "name": "python",
   "nbconvert_exporter": "python",
   "pygments_lexer": "ipython3",
   "version": "3.9.7"
  }
 },
 "nbformat": 4,
 "nbformat_minor": 5
}
